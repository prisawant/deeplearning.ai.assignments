{
  "nbformat": 4,
  "nbformat_minor": 0,
  "metadata": {
    "colab": {
      "name": "graphNN_wikipages.ipynb",
      "provenance": [],
      "include_colab_link": true
    },
    "kernelspec": {
      "name": "python3",
      "display_name": "Python 3"
    }
  },
  "cells": [
    {
      "cell_type": "markdown",
      "metadata": {
        "id": "view-in-github",
        "colab_type": "text"
      },
      "source": [
        "<a href=\"https://colab.research.google.com/github/prisawant/deeplearning.ai.assignments/blob/graphNN/graphNN_wikipages.ipynb\" target=\"_parent\"><img src=\"https://colab.research.google.com/assets/colab-badge.svg\" alt=\"Open In Colab\"/></a>"
      ]
    },
    {
      "cell_type": "markdown",
      "metadata": {
        "id": "28SsfqGrIcBv",
        "colab_type": "text"
      },
      "source": [
        "## Implementation from blogpost: https://medium.com/analytics-vidhya/learn-how-to-perform-feature-extraction-from-graphs-using-deepwalk-85437bb8363e\n"
      ]
    },
    {
      "cell_type": "code",
      "metadata": {
        "id": "lbDibgkzImGF",
        "colab_type": "code",
        "colab": {}
      },
      "source": [
        "import networkx as nx\n",
        "import pandas as pd\n",
        "import numpy as np\n",
        "import random\n",
        "from tqdm import tqdm\n",
        "from sklearn.decomposition import PCA\n",
        "\n",
        "import matplotlib.pyplot as plt\n",
        "%matplotlib inline"
      ],
      "execution_count": 0,
      "outputs": []
    },
    {
      "cell_type": "code",
      "metadata": {
        "id": "gmkIQxdkItFL",
        "colab_type": "code",
        "outputId": "7e662378-b599-4bff-a07a-6a02b2183fbb",
        "colab": {
          "base_uri": "https://localhost:8080/",
          "height": 204
        }
      },
      "source": [
        "url = 'https://raw.githubusercontent.com/prisawant/deeplearning.ai.assignments/graphNN/space_data.tsv'\n",
        "df = pd.read_csv(url, sep = \"\\t\")\n",
        "df.head()"
      ],
      "execution_count": 3,
      "outputs": [
        {
          "output_type": "execute_result",
          "data": {
            "text/html": [
              "<div>\n",
              "<style scoped>\n",
              "    .dataframe tbody tr th:only-of-type {\n",
              "        vertical-align: middle;\n",
              "    }\n",
              "\n",
              "    .dataframe tbody tr th {\n",
              "        vertical-align: top;\n",
              "    }\n",
              "\n",
              "    .dataframe thead th {\n",
              "        text-align: right;\n",
              "    }\n",
              "</style>\n",
              "<table border=\"1\" class=\"dataframe\">\n",
              "  <thead>\n",
              "    <tr style=\"text-align: right;\">\n",
              "      <th></th>\n",
              "      <th>source</th>\n",
              "      <th>target</th>\n",
              "      <th>depth</th>\n",
              "    </tr>\n",
              "  </thead>\n",
              "  <tbody>\n",
              "    <tr>\n",
              "      <th>0</th>\n",
              "      <td>space exploration</td>\n",
              "      <td>discovery and exploration of the solar system</td>\n",
              "      <td>1</td>\n",
              "    </tr>\n",
              "    <tr>\n",
              "      <th>1</th>\n",
              "      <td>space exploration</td>\n",
              "      <td>in-space propulsion technologies</td>\n",
              "      <td>1</td>\n",
              "    </tr>\n",
              "    <tr>\n",
              "      <th>2</th>\n",
              "      <td>space exploration</td>\n",
              "      <td>robotic spacecraft</td>\n",
              "      <td>1</td>\n",
              "    </tr>\n",
              "    <tr>\n",
              "      <th>3</th>\n",
              "      <td>space exploration</td>\n",
              "      <td>timeline of planetary exploration</td>\n",
              "      <td>1</td>\n",
              "    </tr>\n",
              "    <tr>\n",
              "      <th>4</th>\n",
              "      <td>space exploration</td>\n",
              "      <td>landings on other planets</td>\n",
              "      <td>1</td>\n",
              "    </tr>\n",
              "  </tbody>\n",
              "</table>\n",
              "</div>"
            ],
            "text/plain": [
              "              source                                         target  depth\n",
              "0  space exploration  discovery and exploration of the solar system      1\n",
              "1  space exploration               in-space propulsion technologies      1\n",
              "2  space exploration                             robotic spacecraft      1\n",
              "3  space exploration              timeline of planetary exploration      1\n",
              "4  space exploration                      landings on other planets      1"
            ]
          },
          "metadata": {
            "tags": []
          },
          "execution_count": 3
        }
      ]
    },
    {
      "cell_type": "code",
      "metadata": {
        "id": "ZsHLPd5YNtAt",
        "colab_type": "code",
        "colab": {}
      },
      "source": [
        "G = nx.from_pandas_edgelist(df, \"source\", \"target\", edge_attr=True, create_using=nx.Graph())"
      ],
      "execution_count": 0,
      "outputs": []
    },
    {
      "cell_type": "code",
      "metadata": {
        "id": "4MOJymo8OyN_",
        "colab_type": "code",
        "colab": {
          "base_uri": "https://localhost:8080/",
          "height": 34
        },
        "outputId": "f02ddef2-02c6-4d23-8488-4ad2a0f5b4ad"
      },
      "source": [
        "len(G)"
      ],
      "execution_count": 5,
      "outputs": [
        {
          "output_type": "execute_result",
          "data": {
            "text/plain": [
              "2088"
            ]
          },
          "metadata": {
            "tags": []
          },
          "execution_count": 5
        }
      ]
    },
    {
      "cell_type": "markdown",
      "metadata": {
        "id": "gPUUZFA_O_9V",
        "colab_type": "text"
      },
      "source": [
        "## Random Walk"
      ]
    },
    {
      "cell_type": "code",
      "metadata": {
        "id": "_WhBfC4qPDiu",
        "colab_type": "code",
        "colab": {}
      },
      "source": [
        "def get_randomwalk(node, path_length):\n",
        "    \n",
        "    random_walk = [node]\n",
        "    \n",
        "    for i in range(path_length-1):\n",
        "        temp = list(G.neighbors(node))\n",
        "        temp = list(set(temp) - set(random_walk))    \n",
        "        if len(temp) == 0:\n",
        "            break\n",
        "\n",
        "        random_node = random.choice(temp)\n",
        "        random_walk.append(random_node)\n",
        "        node = random_node\n",
        "        \n",
        "    return random_walk"
      ],
      "execution_count": 0,
      "outputs": []
    },
    {
      "cell_type": "code",
      "metadata": {
        "id": "ZxBKcyifPOuy",
        "colab_type": "code",
        "colab": {
          "base_uri": "https://localhost:8080/",
          "height": 187
        },
        "outputId": "3870e3eb-70de-456e-c1e8-022c475fd738"
      },
      "source": [
        "get_randomwalk('space exploration', 10)"
      ],
      "execution_count": 7,
      "outputs": [
        {
          "output_type": "execute_result",
          "data": {
            "text/plain": [
              "['space exploration',\n",
              " 'monkeys in space',\n",
              " 'ham (chimpanzee)',\n",
              " 'monkeys and non-human apes in space',\n",
              " 'alice king chatham',\n",
              " 'monkeys and apes in space',\n",
              " 'laika',\n",
              " 'russian space dogs',\n",
              " 'sputnik program',\n",
              " 'lists of spacecraft']"
            ]
          },
          "metadata": {
            "tags": []
          },
          "execution_count": 7
        }
      ]
    },
    {
      "cell_type": "code",
      "metadata": {
        "id": "aTPyBV6qPTyF",
        "colab_type": "code",
        "colab": {
          "base_uri": "https://localhost:8080/",
          "height": 51
        },
        "outputId": "57a12a48-6537-496c-f29a-6af6ef96c846"
      },
      "source": [
        "all_nodes = list(G.nodes())\n",
        "\n",
        "random_walks = []\n",
        "for n in tqdm(all_nodes):\n",
        "    for i in range(5):\n",
        "        random_walks.append(get_randomwalk(n,10))\n",
        "        \n",
        "# count of sequences\n",
        "len(random_walks)"
      ],
      "execution_count": 8,
      "outputs": [
        {
          "output_type": "stream",
          "text": [
            "100%|██████████| 2088/2088 [00:00<00:00, 10629.11it/s]\n"
          ],
          "name": "stderr"
        },
        {
          "output_type": "execute_result",
          "data": {
            "text/plain": [
              "10440"
            ]
          },
          "metadata": {
            "tags": []
          },
          "execution_count": 8
        }
      ]
    },
    {
      "cell_type": "markdown",
      "metadata": {
        "id": "m2wriVyAPhXT",
        "colab_type": "text"
      },
      "source": [
        "## DeepWalk\n"
      ]
    },
    {
      "cell_type": "code",
      "metadata": {
        "id": "y2ZTNNZ4PrpD",
        "colab_type": "code",
        "colab": {}
      },
      "source": [
        "from gensim.models import Word2Vec\n",
        "\n",
        "import warnings\n",
        "warnings.filterwarnings('ignore')"
      ],
      "execution_count": 0,
      "outputs": []
    },
    {
      "cell_type": "code",
      "metadata": {
        "id": "zzGeU-ebPaQ2",
        "colab_type": "code",
        "colab": {
          "base_uri": "https://localhost:8080/",
          "height": 34
        },
        "outputId": "1874d670-105c-4420-a272-12504643966b"
      },
      "source": [
        "# train skip-gram (word2vec) model\n",
        "model = Word2Vec(window = 4, sg = 1, hs = 0,\n",
        "                 negative = 10, # for negative sampling\n",
        "                 alpha=0.03, min_alpha=0.0007,\n",
        "                 seed = 14)\n",
        "\n",
        "model.build_vocab(random_walks, progress_per=2)\n",
        "\n",
        "model.train(random_walks, total_examples = model.corpus_count, epochs=20, report_delay=1)"
      ],
      "execution_count": 10,
      "outputs": [
        {
          "output_type": "execute_result",
          "data": {
            "text/plain": [
              "(976049, 1005700)"
            ]
          },
          "metadata": {
            "tags": []
          },
          "execution_count": 10
        }
      ]
    },
    {
      "cell_type": "code",
      "metadata": {
        "id": "55rKNXSjPnJl",
        "colab_type": "code",
        "colab": {
          "base_uri": "https://localhost:8080/",
          "height": 187
        },
        "outputId": "8b6ebc39-e5b5-4cbc-a94c-330d4e1379dc"
      },
      "source": [
        "model.similar_by_word('space tourism')"
      ],
      "execution_count": 11,
      "outputs": [
        {
          "output_type": "execute_result",
          "data": {
            "text/plain": [
              "[('space flight participant', 0.8067325353622437),\n",
              " ('astronaut training', 0.7908955216407776),\n",
              " ('reduced-gravity aircraft', 0.7879847288131714),\n",
              " ('space adventures', 0.7510075569152832),\n",
              " ('commercial astronaut', 0.7487378120422363),\n",
              " ('seti', 0.746997594833374),\n",
              " ('rocketship tours', 0.7440052032470703),\n",
              " ('space tourism society', 0.7297300100326538),\n",
              " ('ultralight aviation', 0.7125697135925293),\n",
              " ('potential cultural impact of extraterrestrial contact', 0.7104005813598633)]"
            ]
          },
          "metadata": {
            "tags": []
          },
          "execution_count": 11
        }
      ]
    },
    {
      "cell_type": "code",
      "metadata": {
        "id": "aBX4lpUkPx6S",
        "colab_type": "code",
        "colab": {}
      },
      "source": [
        "terms = ['lunar escape systems','soviet moonshot', 'soyuz 7k-l1', \n",
        "         'moon landing','space food', 'food systems on space exploration missions', \n",
        "         'meal, ready-to-eat','space law', 'metalaw', 'moon treaty', \n",
        "         'legal aspects of computing','astronaut training', 'reduced-gravity aircraft', \n",
        "         'space adaptation syndrome', 'micro-g environment']"
      ],
      "execution_count": 0,
      "outputs": []
    },
    {
      "cell_type": "code",
      "metadata": {
        "id": "HGXBB25dQWk5",
        "colab_type": "code",
        "colab": {}
      },
      "source": [
        "def plot_nodes(word_list):\n",
        "    X = model[word_list]\n",
        "    \n",
        "    # reduce dimensions to 2\n",
        "    pca = PCA(n_components=2)\n",
        "    result = pca.fit_transform(X)\n",
        "    \n",
        "    \n",
        "    plt.figure(figsize=(12,9))\n",
        "    # create a scatter plot of the projection\n",
        "    plt.scatter(result[:, 0], result[:, 1])\n",
        "    for i, word in enumerate(word_list):\n",
        "        plt.annotate(word, xy=(result[i, 0], result[i, 1]))\n",
        "        \n",
        "    plt.show()"
      ],
      "execution_count": 0,
      "outputs": []
    },
    {
      "cell_type": "code",
      "metadata": {
        "id": "JWWai7EajyVp",
        "colab_type": "code",
        "colab": {
          "base_uri": "https://localhost:8080/",
          "height": 537
        },
        "outputId": "f56efbe7-daaa-4e17-b115-1df9707c6c40"
      },
      "source": [
        "plot_nodes(terms)"
      ],
      "execution_count": 14,
      "outputs": [
        {
          "output_type": "display_data",
          "data": {
            "image/png": "[encoded data removed]",
            "text/plain": [
              "<Figure size 864x648 with 1 Axes>"
            ]
          },
          "metadata": {
            "tags": []
          }
        }
      ]
    }
  ]
}